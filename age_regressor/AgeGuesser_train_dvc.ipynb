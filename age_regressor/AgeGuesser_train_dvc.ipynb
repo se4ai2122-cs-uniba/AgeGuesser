{
  "nbformat": 4,
  "nbformat_minor": 0,
  "metadata": {
    "colab": {
      "name": "SE_cv_age_estimation_train.ipynb",
      "provenance": [],
      "machine_shape": "hm",
      "collapsed_sections": []
    },
    "kernelspec": {
      "name": "python3",
      "display_name": "Python 3"
    },
    "language_info": {
      "name": "python"
    },
    "accelerator": "GPU"
  },
  "cells": [
    {
      "cell_type": "code",
      "metadata": {
        "id": "_2Pvp4p_feyi",
        "colab": {
          "base_uri": "https://localhost:8080/"
        },
        "outputId": "9c32b3dc-4733-4ac5-dd1d-b67d041b996d"
      },
      "source": [
        "!nvidia-smi"
      ],
      "execution_count": 1,
      "outputs": [
        {
          "output_type": "stream",
          "name": "stdout",
          "text": [
            "Tue Dec 28 18:01:09 2021       \n",
            "+-----------------------------------------------------------------------------+\n",
            "| NVIDIA-SMI 495.44       Driver Version: 460.32.03    CUDA Version: 11.2     |\n",
            "|-------------------------------+----------------------+----------------------+\n",
            "| GPU  Name        Persistence-M| Bus-Id        Disp.A | Volatile Uncorr. ECC |\n",
            "| Fan  Temp  Perf  Pwr:Usage/Cap|         Memory-Usage | GPU-Util  Compute M. |\n",
            "|                               |                      |               MIG M. |\n",
            "|===============================+======================+======================|\n",
            "|   0  Tesla P100-PCIE...  Off  | 00000000:00:04.0 Off |                    0 |\n",
            "| N/A   35C    P0    26W / 250W |      0MiB / 16280MiB |      0%      Default |\n",
            "|                               |                      |                  N/A |\n",
            "+-------------------------------+----------------------+----------------------+\n",
            "                                                                               \n",
            "+-----------------------------------------------------------------------------+\n",
            "| Processes:                                                                  |\n",
            "|  GPU   GI   CI        PID   Type   Process name                  GPU Memory |\n",
            "|        ID   ID                                                   Usage      |\n",
            "|=============================================================================|\n",
            "|  No running processes found                                                 |\n",
            "+-----------------------------------------------------------------------------+\n"
          ]
        }
      ]
    },
    {
      "cell_type": "code",
      "metadata": {
        "id": "OIAdRG67fhnx"
      },
      "source": [
        "!pip3 install dvc"
      ],
      "execution_count": null,
      "outputs": []
    },
    {
      "cell_type": "code",
      "metadata": {
        "id": "Se_Okl-kiCnZ"
      },
      "source": [
        "!pip3 install 'dvc[gdrive]'"
      ],
      "execution_count": null,
      "outputs": []
    },
    {
      "cell_type": "code",
      "source": [
        "!pip install great-expectations"
      ],
      "metadata": {
        "id": "GXmJdt25LmjR"
      },
      "execution_count": null,
      "outputs": []
    },
    {
      "cell_type": "code",
      "metadata": {
        "id": "ltO4RKeA1VLz"
      },
      "source": [
        "!pip install mlflow"
      ],
      "execution_count": null,
      "outputs": []
    },
    {
      "cell_type": "code",
      "metadata": {
        "id": "Xr_xrdV3fSo6"
      },
      "source": [
        "import dvc.api"
      ],
      "execution_count": 5,
      "outputs": []
    },
    {
      "cell_type": "code",
      "metadata": {
        "id": "xWaAIrZ0ejMQ"
      },
      "source": [
        "!git clone \"https://github.com/se4ai2122-cs-uniba/AgeGuesser.git\""
      ],
      "execution_count": null,
      "outputs": []
    },
    {
      "cell_type": "code",
      "metadata": {
        "colab": {
          "base_uri": "https://localhost:8080/"
        },
        "id": "STeYH3Pe1hao",
        "outputId": "f75ba03a-c262-4434-9157-641b5c24dd94"
      },
      "source": [
        "%cd AgeGuesser/"
      ],
      "execution_count": 7,
      "outputs": [
        {
          "output_type": "stream",
          "name": "stdout",
          "text": [
            "/content/AgeGuesser\n"
          ]
        }
      ]
    },
    {
      "cell_type": "code",
      "metadata": {
        "colab": {
          "base_uri": "https://localhost:8080/"
        },
        "id": "acY6ba4-1YS_",
        "outputId": "e2380cbd-9cd3-435b-c1dd-442fe590c2e9"
      },
      "source": [
        "# optional\n",
        "!git checkout 35-enhancement-dvcvalid\n",
        "!git branch -a"
      ],
      "execution_count": 8,
      "outputs": [
        {
          "output_type": "stream",
          "name": "stdout",
          "text": [
            "Branch '35-enhancement-dvcvalid' set up to track remote branch '35-enhancement-dvcvalid' from 'origin'.\n",
            "Switched to a new branch '35-enhancement-dvcvalid'\n"
          ]
        }
      ]
    },
    {
      "cell_type": "code",
      "metadata": {
        "colab": {
          "base_uri": "https://localhost:8080/"
        },
        "id": "_FMyCzwO1WSt",
        "outputId": "94a19253-0eb7-4d23-9502-b73a808a8ee1"
      },
      "source": [
        "%cd age_regressor/"
      ],
      "execution_count": 9,
      "outputs": [
        {
          "output_type": "stream",
          "name": "stdout",
          "text": [
            "/content/AgeGuesser/age_regressor\n"
          ]
        }
      ]
    },
    {
      "cell_type": "code",
      "metadata": {
        "id": "0brUMJR7gvti"
      },
      "source": [
        "!dvc pull"
      ],
      "execution_count": null,
      "outputs": []
    },
    {
      "cell_type": "code",
      "metadata": {
        "id": "VrJX0E1Y1Yz3"
      },
      "source": [
        "# upload databrickscfg.txt separately\n",
        "%env DATABRICKS_CONFIG_FILE=/content/databrickscfg.txt"
      ],
      "execution_count": null,
      "outputs": []
    },
    {
      "cell_type": "code",
      "metadata": {
        "id": "Abd5tgq6cFrE"
      },
      "source": [
        "!dvc repro -f extract"
      ],
      "execution_count": null,
      "outputs": []
    },
    {
      "cell_type": "code",
      "source": [
        "!dvc repro"
      ],
      "metadata": {
        "id": "XbPIlC-DPG8f"
      },
      "execution_count": null,
      "outputs": []
    },
    {
      "cell_type": "code",
      "metadata": {
        "id": "rkpqJvjWKfGo"
      },
      "source": [
        "!dvc exp run -S train.batch_size=128 -S train.lr=0.01"
      ],
      "execution_count": null,
      "outputs": []
    }
  ]
}